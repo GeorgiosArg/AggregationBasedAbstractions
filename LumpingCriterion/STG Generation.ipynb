{
 "cells": [
  {
   "cell_type": "code",
   "execution_count": 2,
   "id": "european-geometry",
   "metadata": {},
   "outputs": [
    {
     "data": {
      "text/markdown": [
       "This notebook has been executed using the docker image `colomoto/colomoto-docker:2021-04-01`"
      ],
      "text/plain": [
       "<IPython.core.display.Markdown object>"
      ]
     },
     "metadata": {},
     "output_type": "display_data"
    }
   ],
   "source": [
    "import PyBoolNet\n",
    "import biolqm\n",
    "import ginsim\n",
    "from colomoto import minibn\n",
    "from os import listdir\n",
    "import os\n",
    "from os.path import isfile, join\n",
    "import time\n",
    "from PyBoolNet import StateTransitionGraphs as STGs\n",
    "from PyBoolNet import FileExchange\n",
    "import pandas as pd"
   ]
  },
  {
   "cell_type": "markdown",
   "id": "spatial-amsterdam",
   "metadata": {},
   "source": [
    "# FGF"
   ]
  },
  {
   "cell_type": "markdown",
   "id": "posted-tackle",
   "metadata": {},
   "source": [
    "## Original"
   ]
  },
  {
   "cell_type": "code",
   "execution_count": 4,
   "id": "religious-ceiling",
   "metadata": {},
   "outputs": [
    {
     "name": "stdout",
     "output_type": "stream",
     "text": [
      "The state transition graph will consist of up to 2**23=8388608 states, depending on the InitialStates.\n",
      "This will take a while and we might run out of memory.\n"
     ]
    },
    {
     "data": {
      "text/plain": [
       "434.90031814575195"
      ]
     },
     "execution_count": 4,
     "metadata": {},
     "output_type": "execute_result"
    }
   ],
   "source": [
    "net = open('models/STG_Application/original/fgf.bnet','r').read()\n",
    "start_time = time.time()\n",
    "primes = PyBoolNet.FileExchange.bnet2primes(net)\n",
    "update = \"synchronous\"\n",
    "stg = STGs.primes2stg(primes, update)\n",
    "generation_time = ((time.time() - start_time))\n",
    "generation_time"
   ]
  },
  {
   "cell_type": "markdown",
   "id": "computational-weather",
   "metadata": {},
   "source": [
    "## Reduced"
   ]
  },
  {
   "cell_type": "code",
   "execution_count": 3,
   "id": "referenced-flavor",
   "metadata": {},
   "outputs": [
    {
     "name": "stdout",
     "output_type": "stream",
     "text": [
      "The state transition graph will consist of up to 2**17=131072 states, depending on the InitialStates.\n",
      "This will take a while and we might run out of memory.\n"
     ]
    },
    {
     "data": {
      "text/plain": [
       "5.240538597106934"
      ]
     },
     "execution_count": 3,
     "metadata": {},
     "output_type": "execute_result"
    }
   ],
   "source": [
    "net = open('models/STG_Application/reduced/fgf_red.bnet','r').read()\n",
    "start_time = time.time()\n",
    "primes = PyBoolNet.FileExchange.bnet2primes(net)\n",
    "update = \"synchronous\"\n",
    "stg = STGs.primes2stg(primes, update)\n",
    "generation_time = ((time.time() - start_time))\n",
    "generation_time"
   ]
  },
  {
   "cell_type": "markdown",
   "id": "corrected-habitat",
   "metadata": {},
   "source": [
    "# Hh"
   ]
  },
  {
   "cell_type": "markdown",
   "id": "minus-inspector",
   "metadata": {},
   "source": [
    "## Original"
   ]
  },
  {
   "cell_type": "code",
   "execution_count": null,
   "id": "christian-crack",
   "metadata": {},
   "outputs": [
    {
     "name": "stdout",
     "output_type": "stream",
     "text": [
      "The state transition graph will consist of up to 2**24=16777216 states, depending on the InitialStates.\n",
      "This will take a while and we might run out of memory.\n"
     ]
    }
   ],
   "source": [
    "net = open('models/STG_Application/original/hh.bnet','r').read()\n",
    "start_time = time.time()\n",
    "primes = PyBoolNet.FileExchange.bnet2primes(net)\n",
    "update = \"synchronous\"\n",
    "stg = STGs.primes2stg(primes, update)\n",
    "generation_time = ((time.time() - start_time))\n",
    "generation_time"
   ]
  },
  {
   "cell_type": "markdown",
   "id": "forced-header",
   "metadata": {},
   "source": [
    "## Reduced"
   ]
  },
  {
   "cell_type": "code",
   "execution_count": 33,
   "id": "formed-chase",
   "metadata": {},
   "outputs": [
    {
     "data": {
      "text/plain": [
       "1.1716015338897705"
      ]
     },
     "execution_count": 33,
     "metadata": {},
     "output_type": "execute_result"
    }
   ],
   "source": [
    "net = open('models/STG_Application/reduced/hh_red.bnet','r').read()\n",
    "start_time = time.time()\n",
    "primes = PyBoolNet.FileExchange.bnet2primes(net)\n",
    "update = \"synchronous\"\n",
    "stg = STGs.primes2stg(primes, update)\n",
    "generation_time = ((time.time() - start_time))\n",
    "generation_time"
   ]
  },
  {
   "cell_type": "markdown",
   "id": "vocational-medline",
   "metadata": {},
   "source": [
    "# SpaltZe (SPZ)"
   ]
  },
  {
   "cell_type": "markdown",
   "id": "rental-criticism",
   "metadata": {},
   "source": [
    "## Original"
   ]
  },
  {
   "cell_type": "code",
   "execution_count": null,
   "id": "unlimited-sound",
   "metadata": {},
   "outputs": [],
   "source": [
    "net = open('models/STG_Application/original/spz.bnet','r').read()\n",
    "start_time = time.time()\n",
    "primes = PyBoolNet.FileExchange.bnet2primes(net)\n",
    "update = \"synchronous\"\n",
    "stg = STGs.primes2stg(primes, update)\n",
    "generation_time = ((time.time() - start_time))\n",
    "generation_time"
   ]
  },
  {
   "cell_type": "markdown",
   "id": "institutional-serbia",
   "metadata": {},
   "source": [
    "## Reduced"
   ]
  },
  {
   "cell_type": "code",
   "execution_count": 32,
   "id": "fixed-marsh",
   "metadata": {},
   "outputs": [
    {
     "name": "stdout",
     "output_type": "stream",
     "text": [
      "The state transition graph will consist of up to 2**17=131072 states, depending on the InitialStates.\n",
      "This will take a while and we might run out of memory.\n"
     ]
    },
    {
     "data": {
      "text/plain": [
       "5.17495322227478"
      ]
     },
     "execution_count": 32,
     "metadata": {},
     "output_type": "execute_result"
    }
   ],
   "source": [
    "net = open('models/STG_Application/reduced/SPZ_red.bnet','r').read()\n",
    "start_time = time.time()\n",
    "primes = PyBoolNet.FileExchange.bnet2primes(net)\n",
    "update = \"synchronous\"\n",
    "stg = STGs.primes2stg(primes, update)\n",
    "generation_time = ((time.time() - start_time))\n",
    "generation_time"
   ]
  },
  {
   "cell_type": "markdown",
   "id": "shaped-allah",
   "metadata": {},
   "source": [
    "# VEGF"
   ]
  },
  {
   "cell_type": "markdown",
   "id": "ecological-inspector",
   "metadata": {},
   "source": [
    "## Original"
   ]
  },
  {
   "cell_type": "code",
   "execution_count": 3,
   "id": "authorized-thinking",
   "metadata": {},
   "outputs": [
    {
     "name": "stdout",
     "output_type": "stream",
     "text": [
      "The state transition graph will consist of up to 2**18=262144 states, depending on the InitialStates.\n",
      "This will take a while and we might run out of memory.\n"
     ]
    },
    {
     "data": {
      "text/plain": [
       "10.485791444778442"
      ]
     },
     "execution_count": 3,
     "metadata": {},
     "output_type": "execute_result"
    }
   ],
   "source": [
    "net = open('models/STG_Application/original/vegf.bnet','r').read()\n",
    "start_time = time.time()\n",
    "primes = PyBoolNet.FileExchange.bnet2primes(net)\n",
    "update = \"synchronous\"\n",
    "stg = STGs.primes2stg(primes, update)\n",
    "generation_time = ((time.time() - start_time))\n",
    "generation_time"
   ]
  },
  {
   "cell_type": "markdown",
   "id": "amended-positive",
   "metadata": {},
   "source": [
    "## Reduced"
   ]
  },
  {
   "cell_type": "code",
   "execution_count": 30,
   "id": "interested-column",
   "metadata": {},
   "outputs": [
    {
     "data": {
      "text/plain": [
       "0.3512837886810303"
      ]
     },
     "execution_count": 30,
     "metadata": {},
     "output_type": "execute_result"
    }
   ],
   "source": [
    "net = open('models/STG_Application/reduced/vegf_red.bnet','r').read()\n",
    "start_time = time.time()\n",
    "primes = PyBoolNet.FileExchange.bnet2primes(net)\n",
    "update = \"synchronous\"\n",
    "stg = STGs.primes2stg(primes, update)\n",
    "generation_time = ((time.time() - start_time))\n",
    "generation_time"
   ]
  },
  {
   "cell_type": "code",
   "execution_count": null,
   "id": "therapeutic-prime",
   "metadata": {},
   "outputs": [],
   "source": []
  }
 ],
 "metadata": {
  "kernelspec": {
   "display_name": "Python 3",
   "language": "python",
   "name": "python3"
  },
  "language_info": {
   "codemirror_mode": {
    "name": "ipython",
    "version": 3
   },
   "file_extension": ".py",
   "mimetype": "text/x-python",
   "name": "python",
   "nbconvert_exporter": "python",
   "pygments_lexer": "ipython3",
   "version": "3.9.1"
  }
 },
 "nbformat": 4,
 "nbformat_minor": 5
}
