{
 "cells": [
  {
   "cell_type": "code",
   "execution_count": 8,
   "id": "brave-yukon",
   "metadata": {},
   "outputs": [
    {
     "name": "stdout",
     "output_type": "stream",
     "text": [
      "Defaulting to user installation because normal site-packages is not writeable\n",
      "Requirement already satisfied: z3-solver in /home/user/.local/lib/python3.9/site-packages (4.12.1.0)\n"
     ]
    }
   ],
   "source": [
    "import biolqm\n",
    "import ginsim\n",
    "from colomoto import minibn\n",
    "from os import listdir\n",
    "import os\n",
    "from os.path import isfile, join\n",
    "!pip install z3-solver\n",
    "from z3 import *\n",
    "from mbn2str import *\n",
    "from synthesis import *\n",
    "from pretty_printing import *\n",
    "import PyBoolNet\n",
    "from ComputeReducedBN import *"
   ]
  },
  {
   "cell_type": "markdown",
   "id": "understood-sheet",
   "metadata": {},
   "source": [
    "# VEGF Pathway"
   ]
  },
  {
   "cell_type": "code",
   "execution_count": 25,
   "id": "fifth-bulgaria",
   "metadata": {},
   "outputs": [
    {
     "data": {
      "text/html": [
       "<img class=\"unconfined\" width=\"320px\" src=\"data:image/svg+xml;base64,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\">"
      ],
      "text/plain": [
       "<IPython.core.display.HTML object>"
      ]
     },
     "execution_count": 25,
     "metadata": {},
     "output_type": "execute_result"
    }
   ],
   "source": [
    "bn = biolqm.load('models/VEGF_Pathway_12Jun2013_0.zginml'); bn = biolqm.to_minibn(bn)\n",
    "variables,functions = mbn2str(bn)\n",
    "lrg = ginsim.load(\"models/VEGF_Pathway_12Jun2013_0.zginml\")\n",
    "ginsim.show(lrg)"
   ]
  },
  {
   "cell_type": "code",
   "execution_count": 26,
   "id": "common-lodge",
   "metadata": {},
   "outputs": [
    {
     "data": {
      "text/plain": [
       "Aop <- !Rl\n",
       "Cnk <- Cnk\n",
       "Drk <- Pvr\n",
       "Dsor1 <- Raf\n",
       "Ksr <- Ksr\n",
       "Msk <- Msk\n",
       "Pnt <- Rl\n",
       "Pvf1 <- Pvf1\n",
       "Pvf2 <- Pvf2\n",
       "Pvf3 <- Pvf3\n",
       "Pvr <- Pvf1|Pvf2|Pvf3\n",
       "Raf <- Cnk&Ksr&Ras&Src42\n",
       "Ras <- Sos&!Sty\n",
       "Rl <- Dsor1&Msk\n",
       "Sos <- Drk\n",
       "Src42 <- Src42\n",
       "Sty <- Sty\n",
       "Targets <- !Aop&Pnt"
      ]
     },
     "execution_count": 26,
     "metadata": {},
     "output_type": "execute_result"
    }
   ],
   "source": [
    "print(len(variables))\n",
    "bn"
   ]
  },
  {
   "cell_type": "code",
   "execution_count": 28,
   "id": "whole-thriller",
   "metadata": {},
   "outputs": [
    {
     "name": "stdout",
     "output_type": "stream",
     "text": [
      "[['Aop', 'Pnt'], ['Pvf1', 'Pvf2', 'Pvf3'], ['Cnk', 'Ksr', 'Src42']]\n",
      "{'Drk': 'y0', 'Dsor1': 'y1', 'Msk': 'y2', 'Pvr': 'y3', 'Raf': 'y4', 'Ras': 'y5', 'Rl': 'y6', 'Sos': 'y7', 'Sty': 'y8', 'Targets': 'y9', 'Aop': 'y10', 'Pnt': 'y10', 'Pvf1': 'y11', 'Pvf2': 'y11', 'Pvf3': 'y11', 'Cnk': 'y12', 'Ksr': 'y12', 'Src42': 'y12'}\n",
      "unsat\n"
     ]
    }
   ],
   "source": [
    "aggregation_functions = ['And(Not(Aop),Pnt)', 'Or(Pvf1,Pvf2,Pvf3)', 'And(Cnk,Ksr,Src42)']\n",
    "BN_synthesis = synthesis(variables,functions, aggregation_functions)\n",
    "text_file = open(\"/notebook/VEGF_Pathway.py\", \"w\") # here the name of the file is system.py\n",
    "text_file.write(BN_synthesis)\n",
    "text_file.close()\n",
    "%run VEGF_Pathway.py"
   ]
  },
  {
   "cell_type": "markdown",
   "id": "square-freight",
   "metadata": {},
   "source": [
    "If the result is unsat you can compute and the reduced BN with the ComputeReducedBN function"
   ]
  },
  {
   "cell_type": "code",
   "execution_count": 29,
   "id": "provincial-server",
   "metadata": {},
   "outputs": [
    {
     "name": "stdout",
     "output_type": "stream",
     "text": [
      "13\n"
     ]
    },
    {
     "data": {
      "text/plain": [
       "{'hatfx0': 'And(Not(Not(hatx_Rl)),hatx_Rl)',\n",
       " 'hatfx1': 'Or(hatx1,hatx1,hatx1)',\n",
       " 'hatfx2': 'And(hatx2,hatx2,hatx2)',\n",
       " 'hatf_Drk': 'hatx_Pvr',\n",
       " 'hatf_Dsor1': 'hatx_Raf',\n",
       " 'hatf_Msk': 'hatx_Msk',\n",
       " 'hatf_Pvr': 'Or(hatx1, hatx1, hatx1)',\n",
       " 'hatf_Raf': 'And(hatx2, hatx2, hatx_Ras, hatx2)',\n",
       " 'hatf_Ras': 'And(hatx_Sos, Not(hatx_Sty))',\n",
       " 'hatf_Rl': 'And(hatx_Dsor1, hatx_Msk)',\n",
       " 'hatf_Sos': 'hatx_Drk',\n",
       " 'hatf_Sty': 'hatx_Sty',\n",
       " 'hatf_Targets': 'And(Not(Not(hatx0)), hatx0)'}"
      ]
     },
     "execution_count": 29,
     "metadata": {},
     "output_type": "execute_result"
    }
   ],
   "source": [
    "red_bn = ComputeReducedBN(variables,functions, aggregation_functions)\n",
    "print(len(red_bn))\n",
    "red_bn"
   ]
  },
  {
   "cell_type": "markdown",
   "id": "requested-balloon",
   "metadata": {},
   "source": [
    "# Hh Pathway"
   ]
  },
  {
   "cell_type": "code",
   "execution_count": 40,
   "id": "cultural-graduation",
   "metadata": {},
   "outputs": [
    {
     "data": {
      "text/html": [
       "<img class=\"unconfined\" width=\"100%\" src=\"data:image/svg+xml;base64,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\">"
      ],
      "text/plain": [
       "<IPython.core.display.HTML object>"
      ]
     },
     "execution_count": 40,
     "metadata": {},
     "output_type": "execute_result"
    }
   ],
   "source": [
    "bn = biolqm.load('models/Hh__Pathway_11Jun2013_0.zginml'); bn = biolqm.to_minibn(bn)\n",
    "variables,functions = mbn2str(bn)\n",
    "lrg = ginsim.load(\"models/Hh__Pathway_11Jun2013_0.zginml\")\n",
    "ginsim.show(lrg)"
   ]
  },
  {
   "cell_type": "code",
   "execution_count": 41,
   "id": "convenient-dutch",
   "metadata": {},
   "outputs": [
    {
     "data": {
      "text/plain": [
       "Boi <- Boi\n",
       "CK1a <- CK1a\n",
       "Ci_act <- !Cos|!Slmb|!SuFu|(!CK1a&!Pka&!Sgg)\n",
       "Ci_rep <- CK1a&Cos&Pka&Sgg&Slmb&SuFu\n",
       "Cos <- !Fu&!Smo\n",
       "Dally <- Ttv\n",
       "Dlp <- Ttv\n",
       "Dsp <- Dsp\n",
       "Fu <- Smo\n",
       "Gprk2 <- Gprk2\n",
       "Hh <- Boi&Dally&Dlp&Dsp&Lipophorin&Rasp&Shf&iHog\n",
       "Lipophorin <- Lipophorin\n",
       "Pka <- Pka\n",
       "Ptc <- !Hh\n",
       "Rasp <- Rasp\n",
       "Sgg <- Sgg\n",
       "Shf <- Shf\n",
       "Slmb <- Slmb\n",
       "Smo <- Gprk2&!Ptc&!Tow\n",
       "SuFu <- !Fu\n",
       "Targets <- Ci_act&!Ci_rep\n",
       "Tow <- Tow\n",
       "Ttv <- Ttv\n",
       "iHog <- iHog"
      ]
     },
     "execution_count": 41,
     "metadata": {},
     "output_type": "execute_result"
    }
   ],
   "source": [
    "print(len(variables))\n",
    "bn"
   ]
  },
  {
   "cell_type": "code",
   "execution_count": 43,
   "id": "structural-running",
   "metadata": {},
   "outputs": [
    {
     "name": "stdout",
     "output_type": "stream",
     "text": [
      "[['Dally', 'Dlp'], ['Boi', 'Dsp', 'Lipophorin', 'Rasp', 'Shf', 'iHog'], ['Gprk2', 'Tow'], ['Ci_act', 'Ci_rep'], ['CK1a', 'Pka', 'Sgg']]\n",
      "{'Cos': 'y0', 'Fu': 'y1', 'Hh': 'y2', 'Ptc': 'y3', 'Slmb': 'y4', 'Smo': 'y5', 'SuFu': 'y6', 'Targets': 'y7', 'Ttv': 'y8', 'Dally': 'y9', 'Dlp': 'y9', 'Boi': 'y10', 'Dsp': 'y10', 'Lipophorin': 'y10', 'Rasp': 'y10', 'Shf': 'y10', 'iHog': 'y10', 'Gprk2': 'y11', 'Tow': 'y11', 'Ci_act': 'y12', 'Ci_rep': 'y12', 'CK1a': 'y13', 'Pka': 'y13', 'Sgg': 'y13'}\n",
      "unsat\n"
     ]
    }
   ],
   "source": [
    "aggregation_functions = ['And(Dally,Dlp)', 'And(Boi,Dsp,Lipophorin,Rasp,Shf,iHog)'\n",
    "                        , 'And(Gprk2,Not(Tow))', 'And(Ci_act,Not(Ci_rep))'\n",
    "                        ,'Or(CK1a,Pka,Sgg)']\n",
    "BN_synthesis = synthesis(variables,functions, aggregation_functions)\n",
    "text_file = open(\"/notebook/Hh__Pathway.py\", \"w\") # here the name of the file is system.py\n",
    "text_file.write(BN_synthesis)\n",
    "text_file.close()\n",
    "%run Hh__Pathway.py"
   ]
  },
  {
   "cell_type": "code",
   "execution_count": null,
   "id": "liquid-canberra",
   "metadata": {},
   "outputs": [],
   "source": []
  },
  {
   "cell_type": "code",
   "execution_count": 44,
   "id": "black-appeal",
   "metadata": {},
   "outputs": [
    {
     "name": "stdout",
     "output_type": "stream",
     "text": [
      "14\n"
     ]
    },
    {
     "data": {
      "text/plain": [
       "{'hatfx0': 'And(hatx_Ttv,hatx_Ttv)',\n",
       " 'hatfx1': 'And(hatx1,hatx1,hatx1,hatx1,hatx1,hatx1)',\n",
       " 'hatfx2': 'And(hatx2,Not(Not(hatx2)))',\n",
       " 'hatfx3': 'And(Or(Not(hatx_Cos), Not(hatx_Slmb), Not(Suhatx_Fu), And(Not(hatx4), Not(hatx4), Not(hatx4))),Not(And(hatx4, hatx_Cos, hatx4, hatx4, hatx_Slmb, Suhatx_Fu)))',\n",
       " 'hatfx4': 'Or(hatx4,hatx4,hatx4)',\n",
       " 'hatf_Cos': 'And(Not(hatx_Fu), Not(hatx_Smo))',\n",
       " 'hatf_Fu': 'hatx_Smo',\n",
       " 'hatf_Hh': 'And(hatx1, hatx0, hatx0, hatx1, hatx1, hatx1, hatx1, hatx1)',\n",
       " 'hatf_Ptc': 'Not(hatx_Hh)',\n",
       " 'hatf_Slmb': 'hatx_Slmb',\n",
       " 'hatf_Smo': 'And(hatx2, Not(hatx_Ptc), Not(Not(hatx2)))',\n",
       " 'hatf_SuFu': 'Not(hatx_Fu)',\n",
       " 'hatf_Targets': 'And(hatx3, Not(Not(hatx3)))',\n",
       " 'hatf_Ttv': 'hatx_Ttv'}"
      ]
     },
     "execution_count": 44,
     "metadata": {},
     "output_type": "execute_result"
    }
   ],
   "source": [
    "red_bn = ComputeReducedBN(variables,functions, aggregation_functions)\n",
    "print(len(red_bn))\n",
    "red_bn"
   ]
  },
  {
   "cell_type": "markdown",
   "id": "peripheral-artist",
   "metadata": {},
   "source": [
    "# Drosophila Toll Pathway"
   ]
  },
  {
   "cell_type": "code",
   "execution_count": 27,
   "id": "architectural-enclosure",
   "metadata": {},
   "outputs": [
    {
     "data": {
      "text/html": [
       "<img class=\"unconfined\" width=\"469px\" src=\"data:image/svg+xml;base64,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\">"
      ],
      "text/plain": [
       "<IPython.core.display.HTML object>"
      ]
     },
     "execution_count": 27,
     "metadata": {},
     "output_type": "execute_result"
    }
   ],
   "source": [
    "bn = biolqm.load('models/Toll_Pathway_12Jun2013.zginml'); bn = biolqm.to_minibn(bn)\n",
    "variables,functions = mbn2str(bn)\n",
    "lrg = ginsim.load(\"models/Toll_Pathway_12Jun2013.zginml\")\n",
    "ginsim.show(lrg)"
   ]
  },
  {
   "cell_type": "code",
   "execution_count": 28,
   "id": "historic-business",
   "metadata": {},
   "outputs": [
    {
     "data": {
      "text/plain": [
       "Cactus <- !Pelle|!Slmb\n",
       "Dif <- !Cactus\n",
       "Dorsal <- !Cactus\n",
       "MyD88 <- Toll\n",
       "Nec <- Nec\n",
       "Pelle <- Tube\n",
       "Slmb <- Slmb\n",
       "Spz <- !Nec\n",
       "Targets <- Dif|Dorsal\n",
       "Toll <- Spz\n",
       "Tube <- MyD88"
      ]
     },
     "execution_count": 28,
     "metadata": {},
     "output_type": "execute_result"
    }
   ],
   "source": [
    "bn"
   ]
  },
  {
   "cell_type": "code",
   "execution_count": 29,
   "id": "loaded-armor",
   "metadata": {},
   "outputs": [
    {
     "name": "stdout",
     "output_type": "stream",
     "text": [
      "[['Dif', 'Dorsal']]\n",
      "{'Cactus': 'y0', 'MyD88': 'y1', 'Nec': 'y2', 'Pelle': 'y3', 'Slmb': 'y4', 'Spz': 'y5', 'Targets': 'y6', 'Toll': 'y7', 'Tube': 'y8', 'Dif': 'y9', 'Dorsal': 'y9'}\n",
      "unsat\n"
     ]
    }
   ],
   "source": [
    "aggregation_functions = ['Or(Dif,Dorsal)']\n",
    "BN_synthesis = synthesis(variables,functions, aggregation_functions)\n",
    "text_file = open(\"/notebook/Toll_Pathway.py\", \"w\") # here the name of the file is system.py\n",
    "text_file.write(BN_synthesis)\n",
    "text_file.close()\n",
    "%run Toll_Pathway.py"
   ]
  },
  {
   "cell_type": "code",
   "execution_count": 31,
   "id": "registered-amendment",
   "metadata": {},
   "outputs": [
    {
     "name": "stdout",
     "output_type": "stream",
     "text": [
      "10\n"
     ]
    },
    {
     "data": {
      "text/plain": [
       "{'hatfx0': 'Or(Not(hatx_Cactus),Not(hatx_Cactus))',\n",
       " 'hatf_Cactus': 'Or(Not(hatx_Pelle), Not(hatx_Slmb))',\n",
       " 'hatf_MyD88': 'hatx_Toll',\n",
       " 'hatf_Nec': 'hatx_Nec',\n",
       " 'hatf_Pelle': 'hatx_Tube',\n",
       " 'hatf_Slmb': 'hatx_Slmb',\n",
       " 'hatf_Spz': 'Not(hatx_Nec)',\n",
       " 'hatf_Targets': 'Or(hatx0, hatx0)',\n",
       " 'hatf_Toll': 'hatx_Spz',\n",
       " 'hatf_Tube': 'hatx_MyD88'}"
      ]
     },
     "execution_count": 31,
     "metadata": {},
     "output_type": "execute_result"
    }
   ],
   "source": [
    "red_bn = ComputeReducedBN(variables,functions, aggregation_functions)\n",
    "print(len(red_bn))\n",
    "red_bn"
   ]
  },
  {
   "cell_type": "markdown",
   "id": "adjustable-treat",
   "metadata": {},
   "source": [
    "# MAPK"
   ]
  },
  {
   "cell_type": "code",
   "execution_count": 38,
   "id": "accompanied-broadcast",
   "metadata": {
    "scrolled": true
   },
   "outputs": [
    {
     "data": {
      "text/plain": [
       "AKT <- PDK1&!PTEN\n",
       "AP1 <- (ATF2&JUN)|(FOS&JUN)\n",
       "ATF2 <- JNK|p38\n",
       "ATM <- DNA_damage\n",
       "Apoptosis <- !BCL2&!ERK&FOXO3&p53\n",
       "BCL2 <- AKT&CREB\n",
       "CREB <- MSK\n",
       "DNA_damage <- DNA_damage\n",
       "DUSP1 <- CREB\n",
       "EGFR <- (EGFR_stimulus&!GRB2&!PKC)|(!GRB2&!PKC&SPRY)\n",
       "EGFR_stimulus <- EGFR_stimulus\n",
       "ELK1 <- ERK|JNK|p38\n",
       "ERK <- MEK1_2\n",
       "FGFR3 <- FGFR3_stimulus&!GRB2&!PKC\n",
       "FGFR3_stimulus <- FGFR3_stimulus\n",
       "FOS <- (CREB&ERK&RSK)|(ELK1&ERK&RSK)\n",
       "FOXO3 <- !AKT&JNK\n",
       "FRS2 <- FGFR3&!GRB2&!SPRY\n",
       "GAB1 <- GRB2|PI3K\n",
       "GADD45 <- SMAD|p53\n",
       "GRB2 <- EGFR|FRS2|TGFBR\n",
       "Growth_Arrest <- p21\n",
       "JNK <- (!DUSP1&MAP3K1_3)|(!DUSP1&MTK1)|(!DUSP1&TAK1)|(!DUSP1&TAOK)|(MAP3K1_3&MTK1)|(MAP3K1_3&TAK1)|(MAP3K1_3&TAOK)|(MTK1&TAK1)|(MTK1&TAOK)|(TAK1&TAOK)\n",
       "JUN <- JNK\n",
       "MAP3K1_3 <- RAS\n",
       "MAX <- p38\n",
       "MDM2 <- (AKT&!p14)|(!p14&p53)\n",
       "MEK1_2 <- (!AP1&MAP3K1_3&!PPP2CA)|(!AP1&!PPP2CA&RAF)\n",
       "MSK <- ERK|p38\n",
       "MTK1 <- GADD45\n",
       "MYC <- (AKT&MSK)|(MAX&MSK)\n",
       "PDK1 <- PI3K\n",
       "PI3K <- GAB1|(RAS&SOS)\n",
       "PKC <- PLCG\n",
       "PLCG <- EGFR|FGFR3\n",
       "PPP2CA <- p38\n",
       "PTEN <- p53\n",
       "Proliferation <- MYC&!p21&p70\n",
       "RAF <- (!AKT&!ERK&PKC)|(!AKT&!ERK&RAS)\n",
       "RAS <- PLCG|SOS\n",
       "RSK <- ERK\n",
       "SMAD <- TGFBR\n",
       "SOS <- GRB2&!RSK\n",
       "SPRY <- ERK\n",
       "TAK1 <- TGFBR\n",
       "TAOK <- ATM\n",
       "TGFBR <- TGFBR_stimulus\n",
       "TGFBR_stimulus <- TGFBR_stimulus\n",
       "p14 <- MYC\n",
       "p21 <- !AKT&p53\n",
       "p38 <- (!DUSP1&MAP3K1_3)|(!DUSP1&MTK1)|(!DUSP1&TAK1)|(!DUSP1&TAOK)|(MAP3K1_3&MTK1)|(MAP3K1_3&TAK1)|(MAP3K1_3&TAOK)|(MTK1&TAK1)|(MTK1&TAOK)|(TAK1&TAOK)\n",
       "p53 <- (ATM&!MDM2)|(ATM&p38)|(!MDM2&p38)\n",
       "p70 <- ERK&PDK1"
      ]
     },
     "execution_count": 38,
     "metadata": {},
     "output_type": "execute_result"
    }
   ],
   "source": [
    "bn = biolqm.load('models/MAPK_large_19june2013.zginml'); bn = biolqm.to_minibn(bn)\n",
    "variables,functions = mbn2str(bn)\n",
    "lrg = ginsim.load(\"models/MAPK_large_19june2013.zginml\")\n",
    "ginsim.show(lrg)\n",
    "bn"
   ]
  },
  {
   "cell_type": "code",
   "execution_count": 39,
   "id": "isolated-carter",
   "metadata": {},
   "outputs": [
    {
     "name": "stdout",
     "output_type": "stream",
     "text": [
      "[['BCL2', 'FOXO3'], ['ATF2', 'FOS', 'JUN']]\n",
      "{'AKT': 'y0', 'AP1': 'y1', 'ATM': 'y2', 'Apoptosis': 'y3', 'CREB': 'y4', 'DNA_damage': 'y5', 'DUSP1': 'y6', 'EGFR': 'y7', 'EGFR_stimulus': 'y8', 'ELK1': 'y9', 'ERK': 'y10', 'FGFR3': 'y11', 'FGFR3_stimulus': 'y12', 'FRS2': 'y13', 'GAB1': 'y14', 'GADD45': 'y15', 'GRB2': 'y16', 'Growth_Arrest': 'y17', 'JNK': 'y18', 'MAP3K1_3': 'y19', 'MAX': 'y20', 'MDM2': 'y21', 'MEK1_2': 'y22', 'MSK': 'y23', 'MTK1': 'y24', 'MYC': 'y25', 'PDK1': 'y26', 'PI3K': 'y27', 'PKC': 'y28', 'PLCG': 'y29', 'PPP2CA': 'y30', 'PTEN': 'y31', 'Proliferation': 'y32', 'RAF': 'y33', 'RAS': 'y34', 'RSK': 'y35', 'SMAD': 'y36', 'SOS': 'y37', 'SPRY': 'y38', 'TAK1': 'y39', 'TAOK': 'y40', 'TGFBR': 'y41', 'TGFBR_stimulus': 'y42', 'p14': 'y43', 'p21': 'y44', 'p38': 'y45', 'p53': 'y46', 'p70': 'y47', 'BCL2': 'y48', 'FOXO3': 'y48', 'ATF2': 'y49', 'FOS': 'y49', 'JUN': 'y49'}\n",
      "unsat\n"
     ]
    }
   ],
   "source": [
    "aggregation_functions = ['And(Not(BCL2),FOXO3)', 'And(Or(ATF2,FOS),JUN)']\n",
    "BN_synthesis = synthesis(variables,functions, aggregation_functions)\n",
    "text_file = open(\"/notebook/test.py\", \"w\") # here the name of the file is system.py\n",
    "text_file.write(BN_synthesis)\n",
    "text_file.close()\n",
    "%run test.py"
   ]
  },
  {
   "cell_type": "markdown",
   "id": "essential-threshold",
   "metadata": {},
   "source": [
    "In the next case the converter does not work well.\n",
    "\n",
    "Check the row 'hatf_TGFBR_stimulus': 'hatx_hatx_TGFBR_stimulus'"
   ]
  },
  {
   "cell_type": "code",
   "execution_count": 17,
   "id": "printable-breach",
   "metadata": {},
   "outputs": [
    {
     "name": "stdout",
     "output_type": "stream",
     "text": [
      "17\n"
     ]
    },
    {
     "data": {
      "text/plain": [
       "{'hatfx0': 'Or(And(hatx_Pipe, hatx_Snk),And(Not(hatx_Nec), hatx_Viru_Fact),hatx_Grass,hatx_Grass,hatx_Grass)',\n",
       " 'hatfx1': 'Or(hatx_DAP,And(hatx_GramP_Bact,hatx_GramP_Bact),And(hatx_Fungi,hatx_GramP_Bact))',\n",
       " 'hatf_DAP': 'hatx_GramN_Bact',\n",
       " 'hatf_DV_patterning': 'hatx_DV_patterning',\n",
       " 'hatf_Fungi': 'hatx_Fungi',\n",
       " 'hatf_Gd': 'hatx_Ndl',\n",
       " 'hatf_GramN_Bact': 'hatx_GramN_Bact',\n",
       " 'hatf_GramP_Bact': 'hatx_GramP_Bact',\n",
       " 'hatf_Grass': 'hatx_ModSP',\n",
       " 'hatf_ModSP': 'Or(hatx1, And(hatx1, hatx1), And(hatx1, hatx1))',\n",
       " 'hatf_Ndl': 'hatx_DV_patterning',\n",
       " 'hatf_Nec': 'hatx_Nec',\n",
       " 'hatf_Pipe': 'hatx_Pipe',\n",
       " 'hatf_SPE': 'Or(hatx0, hatx0, hatx0, hatx0, hatx0)',\n",
       " 'hatf_Snk': 'hatx_Gd',\n",
       " 'hatf_Spz': 'hatx_SPE',\n",
       " 'hatf_Viru_Fact': 'Or(hatx_Fungi, hatx_GramP_Bact)'}"
      ]
     },
     "execution_count": 17,
     "metadata": {},
     "output_type": "execute_result"
    }
   ],
   "source": [
    "red_bn = ComputeReducedBN(variables,functions, aggregation_functions)\n",
    "print(len(red_bn))\n",
    "red_bn"
   ]
  },
  {
   "cell_type": "markdown",
   "id": "strategic-technique",
   "metadata": {},
   "source": [
    "# Merged"
   ]
  },
  {
   "cell_type": "markdown",
   "id": "burning-facility",
   "metadata": {},
   "source": [
    "This has a bug that I can not find."
   ]
  },
  {
   "cell_type": "code",
   "execution_count": 18,
   "id": "recovered-helicopter",
   "metadata": {},
   "outputs": [],
   "source": [
    "# bn = minibn.BooleanNetwork.load('models/RodriguezJorge_Merged_TCR_TLR5_Signalling_BooleanModel_15Jul2018.zginml.bnet')\n",
    "# variables,functions = mbn2str(bn)\n",
    "# #lrg = ginsim.load(\"models/RodriguezJorge_Merged_TCR_TLR5_Signalling_BooleanModel_15Jul2018.zginml.bnet\")\n",
    "# #ginsim.show(lrg)\n",
    "# bn\n",
    "# aggregation_functions = ['And(FOS,JUN)','And(Not(Akap5),Not(RCAN1))']\n",
    "# BN_synthesis = synthesis(variables,functions, aggregation_functions)\n",
    "# text_file = open(\"/notebook/test.py\", \"w\") # here the name of the file is system.py\n",
    "# text_file.write(BN_synthesis)\n",
    "# text_file.close()\n",
    "# %run test.py"
   ]
  },
  {
   "cell_type": "markdown",
   "id": "appointed-bronze",
   "metadata": {},
   "source": [
    "# FGF pathway"
   ]
  },
  {
   "cell_type": "code",
   "execution_count": null,
   "id": "hawaiian-paradise",
   "metadata": {},
   "outputs": [],
   "source": []
  },
  {
   "cell_type": "code",
   "execution_count": 45,
   "id": "unlike-playing",
   "metadata": {},
   "outputs": [
    {
     "data": {
      "text/html": [
       "<img class=\"unconfined\" width=\"441px\" src=\"data:image/svg+xml;base64,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\">"
      ],
      "text/plain": [
       "<IPython.core.display.HTML object>"
      ]
     },
     "execution_count": 45,
     "metadata": {},
     "output_type": "execute_result"
    }
   ],
   "source": [
    "bn = biolqm.load('models/FGF_Pathway_12Jun2013.zginml'); bn = biolqm.to_minibn(bn)\n",
    "variables,functions = mbn2str(bn)\n",
    "lrg = ginsim.load(\"models/FGF_Pathway_12Jun2013.zginml\")\n",
    "ginsim.show(lrg)"
   ]
  },
  {
   "cell_type": "code",
   "execution_count": 46,
   "id": "stuffed-latvia",
   "metadata": {},
   "outputs": [
    {
     "data": {
      "text/plain": [
       "Aop <- !Rl\n",
       "Bnl <- Bnl\n",
       "Btl <- Bnl\n",
       "Cnk <- Cnk\n",
       "Csw <- Csw\n",
       "Drk <- Csw&stumps\n",
       "Dsor1 <- Raf\n",
       "Gap1 <- PLCg\n",
       "Htl <- Pyr|Ths\n",
       "Ksr <- Ksr\n",
       "Msk <- Msk\n",
       "PLCg <- Drk\n",
       "Pnt <- Rl\n",
       "Pyr <- Pyr\n",
       "Raf <- Cnk&Ksr&Ras&Src42\n",
       "Ras <- (!Gap1&Sos)|(Sos&!Sty)\n",
       "Rl <- Dsor1&Msk\n",
       "Sos <- Drk\n",
       "Src42 <- Src42\n",
       "Sty <- Sty\n",
       "Targets <- !Aop&Pnt\n",
       "Ths <- Ths\n",
       "stumps <- Btl|Htl"
      ]
     },
     "execution_count": 46,
     "metadata": {},
     "output_type": "execute_result"
    }
   ],
   "source": [
    "bn"
   ]
  },
  {
   "cell_type": "code",
   "execution_count": 47,
   "id": "meaning-groove",
   "metadata": {},
   "outputs": [
    {
     "name": "stdout",
     "output_type": "stream",
     "text": [
      "[['Bnl', 'Pyr', 'Ths'], ['Btl', 'Htl'], ['Aop', 'Pnt'], ['Cnk', 'Ksr', 'Src42']]\n",
      "{'Csw': 'y0', 'Drk': 'y1', 'Dsor1': 'y2', 'Gap1': 'y3', 'Msk': 'y4', 'PLCg': 'y5', 'Raf': 'y6', 'Ras': 'y7', 'Rl': 'y8', 'Sos': 'y9', 'Sty': 'y10', 'Targets': 'y11', 'stumps': 'y12', 'Bnl': 'y13', 'Pyr': 'y13', 'Ths': 'y13', 'Btl': 'y14', 'Htl': 'y14', 'Aop': 'y15', 'Pnt': 'y15', 'Cnk': 'y16', 'Ksr': 'y16', 'Src42': 'y16'}\n",
      "unsat\n"
     ]
    }
   ],
   "source": [
    "aggregation_functions = ['Or(Pyr,Ths,Bnl)', 'Or(Btl,Htl)','And(Not(Aop),Pnt)','And(Cnk,Ksr,Src42)']\n",
    "BN_synthesis = synthesis(variables,functions, aggregation_functions)\n",
    "text_file = open(\"/notebook/test.py\", \"w\") # here the name of the file is system.py\n",
    "text_file.write(BN_synthesis)\n",
    "text_file.close()\n",
    "%run test.py"
   ]
  },
  {
   "cell_type": "code",
   "execution_count": 48,
   "id": "incomplete-handbook",
   "metadata": {},
   "outputs": [
    {
     "data": {
      "text/plain": [
       "23"
      ]
     },
     "execution_count": 48,
     "metadata": {},
     "output_type": "execute_result"
    }
   ],
   "source": [
    "len(variables)"
   ]
  },
  {
   "cell_type": "code",
   "execution_count": 49,
   "id": "moving-anatomy",
   "metadata": {},
   "outputs": [
    {
     "name": "stdout",
     "output_type": "stream",
     "text": [
      "17\n"
     ]
    },
    {
     "data": {
      "text/plain": [
       "{'hatfx0': 'Or(hatx0,hatx0,hatx0)',\n",
       " 'hatfx1': 'Or(hatx0,Or(hatx0, hatx0))',\n",
       " 'hatfx2': 'And(Not(Not(hatx_Rl)),hatx_Rl)',\n",
       " 'hatfx3': 'And(hatx3,hatx3,hatx3)',\n",
       " 'hatf_Csw': 'hatx_Csw',\n",
       " 'hatf_Drk': 'And(hatx_Csw, hatx_stumps)',\n",
       " 'hatf_Dsor1': 'hatx_Raf',\n",
       " 'hatf_Gap1': 'hatx_PLCg',\n",
       " 'hatf_Msk': 'hatx_Msk',\n",
       " 'hatf_PLCg': 'hatx_Drk',\n",
       " 'hatf_Raf': 'And(hatx3, hatx3, hatx_Ras, hatx3)',\n",
       " 'hatf_Ras': 'Or(And(Not(hatx_Gap1), hatx_Sos), And(hatx_Sos, Not(hatx_Sty)))',\n",
       " 'hatf_Rl': 'And(hatx_Dsor1, hatx_Msk)',\n",
       " 'hatf_Sos': 'hatx_Drk',\n",
       " 'hatf_Sty': 'hatx_Sty',\n",
       " 'hatf_Targets': 'And(Not(Not(hatx2)), hatx2)',\n",
       " 'hatf_stumps': 'Or(hatx1, hatx1)'}"
      ]
     },
     "execution_count": 49,
     "metadata": {},
     "output_type": "execute_result"
    }
   ],
   "source": [
    "red_bn = ComputeReducedBN(variables,functions, aggregation_functions)\n",
    "print(len(red_bn))\n",
    "red_bn"
   ]
  },
  {
   "cell_type": "markdown",
   "id": "serious-rolling",
   "metadata": {},
   "source": [
    "# SPZ"
   ]
  },
  {
   "cell_type": "markdown",
   "id": "tutorial-theme",
   "metadata": {},
   "source": [
    "A graph based method for modularizing the BN model"
   ]
  },
  {
   "cell_type": "code",
   "execution_count": 20,
   "id": "invisible-sydney",
   "metadata": {},
   "outputs": [
    {
     "data": {
      "text/html": [
       "<img class=\"unconfined\" width=\"100%\" src=\"data:image/svg+xml;base64,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\">"
      ],
      "text/plain": [
       "<IPython.core.display.HTML object>"
      ]
     },
     "execution_count": 20,
     "metadata": {},
     "output_type": "execute_result"
    }
   ],
   "source": [
    "bn = biolqm.load('models/Spz__Processing_12Jun2013.zginml'); bn = biolqm.to_minibn(bn)\n",
    "variables,functions = mbn2str(bn)\n",
    "lrg = ginsim.load(\"models/Spz__Processing_12Jun2013.zginml\")\n",
    "ginsim.show(lrg)"
   ]
  },
  {
   "cell_type": "code",
   "execution_count": null,
   "id": "classified-princess",
   "metadata": {},
   "outputs": [],
   "source": []
  },
  {
   "cell_type": "code",
   "execution_count": 21,
   "id": "superior-entity",
   "metadata": {},
   "outputs": [
    {
     "data": {
      "text/plain": [
       "DAP <- GramN_Bact\n",
       "DV_patterning <- DV_patterning\n",
       "Easter <- Pipe&Snk\n",
       "Fungi <- Fungi\n",
       "GNBP1 <- GramP_Bact\n",
       "GNBP3 <- Fungi\n",
       "Gd <- Ndl\n",
       "GramN_Bact <- GramN_Bact\n",
       "GramP_Bact <- GramP_Bact\n",
       "Grass <- ModSP\n",
       "ModSP <- PGRP_SD|(GNBP1&PGRP_SA)|(GNBP3&PGRP_SA)\n",
       "Ndl <- DV_patterning\n",
       "Nec <- Nec\n",
       "PGRP_SA <- GramP_Bact\n",
       "PGRP_SD <- DAP\n",
       "Pipe <- Pipe\n",
       "Psh <- !Nec&Viru_Fact\n",
       "SPE <- Easter|Psh|Spheroide|Sphinx|Spirit\n",
       "Snk <- Gd\n",
       "Spheroide <- Grass\n",
       "Sphinx <- Grass\n",
       "Spirit <- Grass\n",
       "Spz <- SPE\n",
       "Viru_Fact <- Fungi|GramP_Bact"
      ]
     },
     "execution_count": 21,
     "metadata": {},
     "output_type": "execute_result"
    }
   ],
   "source": [
    "bn"
   ]
  },
  {
   "cell_type": "code",
   "execution_count": 22,
   "id": "retired-timer",
   "metadata": {},
   "outputs": [
    {
     "data": {
      "text/plain": [
       "24"
      ]
     },
     "execution_count": 22,
     "metadata": {},
     "output_type": "execute_result"
    }
   ],
   "source": [
    "len(variables)"
   ]
  },
  {
   "cell_type": "code",
   "execution_count": 23,
   "id": "applicable-services",
   "metadata": {},
   "outputs": [
    {
     "name": "stdout",
     "output_type": "stream",
     "text": [
      "[['Easter', 'Psh', 'Spheroide', 'Sphinx', 'Spirit'], ['GNBP1', 'GNBP3', 'PGRP_SA', 'PGRP_SD']]\n",
      "{'DAP': 'y0', 'DV_patterning': 'y1', 'Fungi': 'y2', 'Gd': 'y3', 'GramN_Bact': 'y4', 'GramP_Bact': 'y5', 'Grass': 'y6', 'ModSP': 'y7', 'Ndl': 'y8', 'Nec': 'y9', 'Pipe': 'y10', 'SPE': 'y11', 'Snk': 'y12', 'Spz': 'y13', 'Viru_Fact': 'y14', 'Easter': 'y15', 'Psh': 'y15', 'Spheroide': 'y15', 'Sphinx': 'y15', 'Spirit': 'y15', 'GNBP1': 'y16', 'GNBP3': 'y16', 'PGRP_SA': 'y16', 'PGRP_SD': 'y16'}\n",
      "unsat\n"
     ]
    }
   ],
   "source": [
    "aggregation_functions = ['Or(Easter,Psh,Spheroide,Sphinx,Spirit)','Or(PGRP_SD,And(GNBP1,PGRP_SA),And(GNBP3,PGRP_SA))']\n",
    "BN_synthesis = synthesis(variables,functions, aggregation_functions)\n",
    "text_file = open(\"/notebook/Spz__Processing_12Jun2013.py\", \"w\")\n",
    "text_file.write(BN_synthesis)\n",
    "text_file.close()\n",
    "%run Spz__Processing_12Jun2013.py"
   ]
  },
  {
   "cell_type": "code",
   "execution_count": 24,
   "id": "level-election",
   "metadata": {},
   "outputs": [
    {
     "name": "stdout",
     "output_type": "stream",
     "text": [
      "17\n"
     ]
    },
    {
     "data": {
      "text/plain": [
       "{'hatfx0': 'Or(And(hatx_Pipe, hatx_Snk),And(Not(hatx_Nec), hatx_Viru_Fact),hatx_Grass,hatx_Grass,hatx_Grass)',\n",
       " 'hatfx1': 'Or(hatx_DAP,And(hatx_GramP_Bact,hatx_GramP_Bact),And(hatx_Fungi,hatx_GramP_Bact))',\n",
       " 'hatf_DAP': 'hatx_GramN_Bact',\n",
       " 'hatf_DV_patterning': 'hatx_DV_patterning',\n",
       " 'hatf_Fungi': 'hatx_Fungi',\n",
       " 'hatf_Gd': 'hatx_Ndl',\n",
       " 'hatf_GramN_Bact': 'hatx_GramN_Bact',\n",
       " 'hatf_GramP_Bact': 'hatx_GramP_Bact',\n",
       " 'hatf_Grass': 'hatx_ModSP',\n",
       " 'hatf_ModSP': 'Or(hatx1, And(hatx1, hatx1), And(hatx1, hatx1))',\n",
       " 'hatf_Ndl': 'hatx_DV_patterning',\n",
       " 'hatf_Nec': 'hatx_Nec',\n",
       " 'hatf_Pipe': 'hatx_Pipe',\n",
       " 'hatf_SPE': 'Or(hatx0, hatx0, hatx0, hatx0, hatx0)',\n",
       " 'hatf_Snk': 'hatx_Gd',\n",
       " 'hatf_Spz': 'hatx_SPE',\n",
       " 'hatf_Viru_Fact': 'Or(hatx_Fungi, hatx_GramP_Bact)'}"
      ]
     },
     "execution_count": 24,
     "metadata": {},
     "output_type": "execute_result"
    }
   ],
   "source": [
    "red_bn = ComputeReducedBN(variables,functions, aggregation_functions)\n",
    "print(len(red_bn))\n",
    "red_bn"
   ]
  },
  {
   "cell_type": "markdown",
   "id": "better-control",
   "metadata": {},
   "source": [
    "Here I construct by hand the reduced BN in bnet format and then import it. "
   ]
  },
  {
   "cell_type": "code",
   "execution_count": null,
   "id": "disabled-bankruptcy",
   "metadata": {},
   "outputs": [],
   "source": []
  },
  {
   "cell_type": "code",
   "execution_count": null,
   "id": "collectible-headline",
   "metadata": {},
   "outputs": [],
   "source": []
  },
  {
   "cell_type": "code",
   "execution_count": null,
   "id": "urban-invite",
   "metadata": {},
   "outputs": [],
   "source": []
  },
  {
   "cell_type": "code",
   "execution_count": null,
   "id": "biological-primary",
   "metadata": {},
   "outputs": [],
   "source": []
  },
  {
   "cell_type": "code",
   "execution_count": null,
   "id": "center-elements",
   "metadata": {},
   "outputs": [],
   "source": []
  },
  {
   "cell_type": "code",
   "execution_count": null,
   "id": "amino-bosnia",
   "metadata": {},
   "outputs": [],
   "source": []
  },
  {
   "cell_type": "code",
   "execution_count": null,
   "id": "perfect-serial",
   "metadata": {},
   "outputs": [],
   "source": []
  },
  {
   "cell_type": "code",
   "execution_count": null,
   "id": "solar-designation",
   "metadata": {},
   "outputs": [],
   "source": []
  },
  {
   "cell_type": "code",
   "execution_count": null,
   "id": "partial-technician",
   "metadata": {},
   "outputs": [],
   "source": []
  },
  {
   "cell_type": "markdown",
   "id": "neutral-henry",
   "metadata": {},
   "source": [
    "# System 8"
   ]
  },
  {
   "cell_type": "code",
   "execution_count": 2,
   "id": "mineral-stone",
   "metadata": {},
   "outputs": [],
   "source": [
    "bn = minibn.BooleanNetwork.load('models/system8.bnet')\n",
    "variables,functions = mbn2str(bn)\n",
    "aggregation_functions = ['And(Not(x2),x3)']\n",
    "BN_synthesis = synthesis(variables,functions, aggregation_functions)\n",
    "text_file = open(\"/notebook/system8.py\", \"w\")\n",
    "text_file.write(BN_synthesis)\n",
    "text_file.close()\n",
    "%run system8.py"
   ]
  },
  {
   "cell_type": "markdown",
   "id": "painted-andorra",
   "metadata": {},
   "source": [
    "# System 7"
   ]
  },
  {
   "cell_type": "code",
   "execution_count": 21,
   "id": "animated-puzzle",
   "metadata": {},
   "outputs": [
    {
     "name": "stdout",
     "output_type": "stream",
     "text": [
      "[['x3', 'x4']]\n",
      "{'x1': 'y0', 'x2': 'y1', 'x5': 'y2', 'x3': 'y3', 'x4': 'y3'}\n",
      "sat\n"
     ]
    }
   ],
   "source": [
    "bn = minibn.BooleanNetwork.load('models/system7.bnet')\n",
    "variables,functions = mbn2str(bn)\n",
    "aggregation_functions = ['And(x3,x4)']\n",
    "BN_synthesis = synthesis(variables,functions, aggregation_functions)\n",
    "text_file = open(\"/notebook/system7.py\", \"w\")\n",
    "text_file.write(BN_synthesis)\n",
    "text_file.close()\n",
    "%run system7.py"
   ]
  },
  {
   "cell_type": "code",
   "execution_count": 22,
   "id": "binary-sustainability",
   "metadata": {},
   "outputs": [
    {
     "data": {
      "text/plain": [
       "x1 <- !x2\n",
       "x2 <- (!x1&x2)|x3\n",
       "x3 <- !x4\n",
       "x4 <- !x3|x4\n",
       "x5 <- !x5"
      ]
     },
     "execution_count": 22,
     "metadata": {},
     "output_type": "execute_result"
    }
   ],
   "source": [
    "bn"
   ]
  },
  {
   "cell_type": "markdown",
   "id": "rubber-momentum",
   "metadata": {},
   "source": [
    "# System 6"
   ]
  },
  {
   "cell_type": "code",
   "execution_count": 26,
   "id": "liked-celebration",
   "metadata": {},
   "outputs": [
    {
     "name": "stdout",
     "output_type": "stream",
     "text": [
      "[['x1', 'x2'], ['x3', 'x4']]\n",
      "{'x5': 'y0', 'x1': 'y1', 'x2': 'y1', 'x3': 'y2', 'x4': 'y2'}\n",
      "unsat\n"
     ]
    }
   ],
   "source": [
    "bn = minibn.BooleanNetwork.load('models/system6.bnet')\n",
    "variables,functions = mbn2str(bn)\n",
    "aggregation_functions = ['And(Not(x1),x2)','Or(Not(x3),x4)']\n",
    "BN_synthesis = synthesis(variables,functions, aggregation_functions)\n",
    "text_file = open(\"/notebook/system6.py\", \"w\")\n",
    "text_file.write(BN_synthesis)\n",
    "text_file.close()\n",
    "%run system6.py"
   ]
  },
  {
   "cell_type": "markdown",
   "id": "indoor-helmet",
   "metadata": {},
   "source": [
    "# System 5"
   ]
  },
  {
   "cell_type": "code",
   "execution_count": 12,
   "id": "extraordinary-tonight",
   "metadata": {},
   "outputs": [],
   "source": [
    "variables = ['x1', 'x2', 'x3', 'x4','x5']\n",
    "functions = ['Not(x2)', 'And(Not(x1), x2)', 'Not(x4)', 'Or(Not(x3), x4)','Not(x5)']\n",
    "aggregation_functions = ['And(Not(x1),x2)','Or(Not(x3),x4)']"
   ]
  },
  {
   "cell_type": "code",
   "execution_count": 14,
   "id": "hungry-phenomenon",
   "metadata": {},
   "outputs": [],
   "source": [
    "variables = ['x1', 'x2', 'x3', 'x4','x5']\n",
    "functions = ['Not(x2)', 'And(Not(x1), x2)', 'Not(x4)', 'Or(Not(x3), x4)','Not(x5)']\n",
    "aggregation_functions = ['And(Not(x1),x2)','And(x3,x4)']"
   ]
  },
  {
   "cell_type": "code",
   "execution_count": 15,
   "id": "christian-regression",
   "metadata": {},
   "outputs": [
    {
     "name": "stdout",
     "output_type": "stream",
     "text": [
      "[['x1', 'x2'], ['x3', 'x4']]\n",
      "{'x5': 'y0', 'x1': 'y1', 'x2': 'y1', 'x3': 'y2', 'x4': 'y2'}\n",
      "sat\n"
     ]
    }
   ],
   "source": [
    "output = synthesis(variables,functions, aggregation_functions)\n",
    "text_file = open(\"test.py\", \"w\")\n",
    "text_file.write(output)\n",
    "text_file.close()\n",
    "%run test.py"
   ]
  },
  {
   "cell_type": "markdown",
   "id": "productive-advocacy",
   "metadata": {},
   "source": [
    "# System 4"
   ]
  },
  {
   "cell_type": "code",
   "execution_count": 16,
   "id": "registered-lawrence",
   "metadata": {},
   "outputs": [],
   "source": [
    "bn = minibn.BooleanNetwork.load('models/system4.bnet')"
   ]
  },
  {
   "cell_type": "code",
   "execution_count": 17,
   "id": "color-vessel",
   "metadata": {},
   "outputs": [
    {
     "data": {
      "text/plain": [
       "x1 <- x1|!x2\n",
       "x2 <- !x1&x2\n",
       "x3 <- x3&x4&(!(!x1&x2))\n",
       "x4 <- x4"
      ]
     },
     "execution_count": 17,
     "metadata": {},
     "output_type": "execute_result"
    }
   ],
   "source": [
    "bn"
   ]
  },
  {
   "cell_type": "code",
   "execution_count": 20,
   "id": "reported-initial",
   "metadata": {},
   "outputs": [
    {
     "name": "stdout",
     "output_type": "stream",
     "text": [
      "[['x1', 'x2']]\n",
      "{'x3': 'y0', 'x4': 'y1', 'x1': 'y2', 'x2': 'y2'}\n",
      "unsat\n"
     ]
    }
   ],
   "source": [
    "variables,functions = mbn2str(bn)\n",
    "aggregation_functions = ['And(Or(x1,Not(x2)),x4)']\n",
    "#aggregation_functions = ['Or(Not(x1),x2)'] # is sat \n",
    "#aggregation_functions = ['And(Not(x1),x2)'] # is unsat! correctly!\n",
    "BN_synthesis = synthesis(variables,functions, aggregation_functions)\n",
    "text_file = open(\"/notebook/system7.py\", \"w\")\n",
    "text_file.write(BN_synthesis)\n",
    "text_file.close()\n",
    "%run system7.py"
   ]
  },
  {
   "cell_type": "markdown",
   "id": "mexican-jumping",
   "metadata": {},
   "source": [
    "# System 3"
   ]
  },
  {
   "cell_type": "code",
   "execution_count": 23,
   "id": "exposed-lucas",
   "metadata": {},
   "outputs": [
    {
     "name": "stdout",
     "output_type": "stream",
     "text": [
      "[['x1', 'x2', 'x3']]\n",
      "{'x4': 'y0', 'x1': 'y1', 'x2': 'y1', 'x3': 'y1'}\n",
      "unsat\n"
     ]
    }
   ],
   "source": [
    "bn = minibn.BooleanNetwork.load('models/system3.bnet')\n",
    "variables,functions = mbn2str(bn)\n",
    "aggregation_functions = ['Or(x1,Not(x2),Not(x3))'] #aggregation_functions = ['Or(Not(x1),x2)'] is sat\n",
    "BN_synthesis = synthesis(variables,functions, aggregation_functions)\n",
    "text_file = open(\"/notebook/system3.py\", \"w\")\n",
    "text_file.write(BN_synthesis)\n",
    "text_file.close()\n",
    "%run system3.py"
   ]
  },
  {
   "cell_type": "markdown",
   "id": "political-productivity",
   "metadata": {},
   "source": [
    "# System 2"
   ]
  },
  {
   "cell_type": "code",
   "execution_count": 24,
   "id": "buried-scroll",
   "metadata": {},
   "outputs": [
    {
     "name": "stdout",
     "output_type": "stream",
     "text": [
      "[['x1', 'x2']]\n",
      "{'x3': 'y0', 'x1': 'y1', 'x2': 'y1'}\n",
      "unsat\n"
     ]
    }
   ],
   "source": [
    "bn = minibn.BooleanNetwork.load('models/system2.bnet')\n",
    "variables,functions = mbn2str(bn)\n",
    "aggregation_functions = ['And(Not(x1),x2)'] #aggregation_functions = ['Or(Not(x1),x2)'] is sat\n",
    "BN_synthesis = synthesis(variables,functions, aggregation_functions)\n",
    "text_file = open(\"/notebook/system2.py\", \"w\")\n",
    "text_file.write(BN_synthesis)\n",
    "text_file.close()\n",
    "%run system2.py"
   ]
  },
  {
   "cell_type": "markdown",
   "id": "handled-nerve",
   "metadata": {},
   "source": [
    "# System 1"
   ]
  },
  {
   "cell_type": "code",
   "execution_count": 37,
   "id": "reported-relief",
   "metadata": {},
   "outputs": [
    {
     "name": "stdout",
     "output_type": "stream",
     "text": [
      "[['x1', 'x2']]\n",
      "{'x3': 'y0', 'x1': 'y1', 'x2': 'y1'}\n",
      "unsat\n"
     ]
    }
   ],
   "source": [
    "bn = minibn.BooleanNetwork.load('models/system1.bnet')\n",
    "variables,functions = mbn2str(bn)\n",
    "aggregation_functions = ['Or(Not(x1),x2)']\n",
    "BN_synthesis = synthesis(variables,functions, aggregation_functions)\n",
    "text_file = open(\"/notebook/system1.py\", \"w\")\n",
    "text_file.write(BN_synthesis)\n",
    "text_file.close()\n",
    "%run system1.py"
   ]
  },
  {
   "cell_type": "code",
   "execution_count": null,
   "id": "given-playing",
   "metadata": {},
   "outputs": [],
   "source": []
  },
  {
   "cell_type": "code",
   "execution_count": null,
   "id": "adult-compromise",
   "metadata": {},
   "outputs": [],
   "source": []
  },
  {
   "cell_type": "code",
   "execution_count": null,
   "id": "departmental-forest",
   "metadata": {},
   "outputs": [],
   "source": []
  }
 ],
 "metadata": {
  "kernelspec": {
   "display_name": "Python 3",
   "language": "python",
   "name": "python3"
  },
  "language_info": {
   "codemirror_mode": {
    "name": "ipython",
    "version": 3
   },
   "file_extension": ".py",
   "mimetype": "text/x-python",
   "name": "python",
   "nbconvert_exporter": "python",
   "pygments_lexer": "ipython3",
   "version": "3.9.1"
  }
 },
 "nbformat": 4,
 "nbformat_minor": 5
}
